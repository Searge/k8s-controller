{
 "cells": [
  {
   "cell_type": "markdown",
   "id": "d4d14e11",
   "metadata": {},
   "source": [
    "# Go Basic\n",
    "\n",
    "Code examples that you can use to play with Golang\n",
    "\n",
    "## Functions"
   ]
  },
  {
   "cell_type": "code",
   "execution_count": 1,
   "id": "8706d1a3",
   "metadata": {},
   "outputs": [
    {
     "name": "stdout",
     "output_type": "stream",
     "text": [
      "can't learn k8s or Golang for 0 years...\n"
     ]
    }
   ],
   "source": [
    "func goLearn(k8s, golang string, years int) (bool, error){\n",
    "    if years == 0 {\n",
    "        return false, fmt.Errorf(\"can't learn k8s or Golang for 0 years...\")\n",
    "    }\n",
    "    return true, nil\n",
    "}\n",
    "\n",
    "func main() {\n",
    "    result, err := goLearn(\"k8s\", \"golang\", 0)\n",
    "    if err != nil {\n",
    "        fmt.Println(err)\n",
    "    } else {\n",
    "        fmt.Println(result)\n",
    "    }\n",
    "}\n"
   ]
  },
  {
   "cell_type": "markdown",
   "id": "8e08ef46",
   "metadata": {},
   "source": [
    "### Examples\n",
    "\n",
    "#### Anonymous functions"
   ]
  },
  {
   "cell_type": "code",
   "execution_count": 2,
   "id": "5a9adb22",
   "metadata": {},
   "outputs": [
    {
     "name": "stdout",
     "output_type": "stream",
     "text": [
      "true\n"
     ]
    }
   ],
   "source": [
    "func main() {\n",
    "  goLearn := func(k8s, golang string, years int) bool {\n",
    "      return true\n",
    "  }\n",
    "\n",
    "  fmt.Println(goLearn(\"k8s\", \"golang\", 1))\n",
    "}\n"
   ]
  },
  {
   "cell_type": "markdown",
   "id": "6bca2049",
   "metadata": {},
   "source": [
    "#### Immediate invocation of a function"
   ]
  },
  {
   "cell_type": "code",
   "execution_count": 3,
   "id": "dd5b4830",
   "metadata": {},
   "outputs": [
    {
     "name": "stdout",
     "output_type": "stream",
     "text": [
      "I like k8s"
     ]
    }
   ],
   "source": [
    "func main() {\n",
    "  func(s string) {\n",
    "    fmt.Printf(\"I like %s\", s)\n",
    "  }(\"k8s\")\n",
    "}"
   ]
  },
  {
   "cell_type": "markdown",
   "id": "e58c8604",
   "metadata": {},
   "source": [
    "#### The “defer” keyword\n",
    "\n",
    "In Go language, defer statements delay the execution of the function or method or an anonymous method until the nearby functions returns. In other words, defer function or method call arguments evaluate instantly, but they don't execute until the nearby functions returns. You can create a deferred method, or function, or anonymous function by using the defer keyword.\n",
    "\n",
    "- [ref](https://www.geeksforgeeks.org/go-language/defer-keyword-in-golang/)\n",
    "\n"
   ]
  },
  {
   "cell_type": "code",
   "execution_count": 4,
   "id": "66655944",
   "metadata": {},
   "outputs": [
    {
     "name": "stdout",
     "output_type": "stream",
     "text": [
      "I can write my own k8s operator.\n"
     ]
    }
   ],
   "source": [
    "func main() {\n",
    "  defer fmt.Println(\"k8s operator.\")\n",
    "  fmt.Print(\"I can write my own \")\n",
    "}"
   ]
  },
  {
   "cell_type": "markdown",
   "id": "ecd0784b",
   "metadata": {},
   "source": [
    "#### Exported / Unexported Functions\n",
    "\n",
    "In Go, accessibility of variables, functions, types, etc., across different packages is controlled by whether these entities are “exported” or “unexported”. This is determined simply by the case of the first letter of the identifier:\n",
    "\n",
    "- Exported names start with a capital letter. These can be accessed from any package that imports the package in which they are declared.\n",
    "- Unexported names begin with a lowercase letter. These are accessible only within the package where they are defined and are hidden from external packages.\n",
    "\n",
    "This distinction is foundational in Go and is enforced at compile time, ensuring that access rules are strictly followed.\n",
    "\n",
    "- [ref](https://medium.com/@singhalok641/mastering-exported-and-unexported-names-in-go-a-key-to-effective-encapsulation-6d4b28bd61a6)"
   ]
  },
  {
   "cell_type": "code",
   "execution_count": 5,
   "id": "e21b0514",
   "metadata": {},
   "outputs": [
    {
     "name": "stdout",
     "output_type": "stream",
     "text": [
      "true\n",
      "true\n"
     ]
    }
   ],
   "source": [
    "// function with unexported name\n",
    "func goLearn(k8s string) bool {\n",
    "  return true\n",
    "}\n",
    "\n",
    "// function with exported name\n",
    "func GoLearn(k8s string) bool {\n",
    "  return true\n",
    "}\n",
    "\n",
    "func main() {\n",
    "  fmt.Println(goLearn(\"k8s\"))\n",
    "  fmt.Println(GoLearn(\"k8s\"))\n",
    "}\n"
   ]
  },
  {
   "cell_type": "markdown",
   "id": "c52c0931",
   "metadata": {},
   "source": [
    "#### Returning Functions\n",
    "\n",
    "In Go, functions are first-class citizens, meaning they can be treated like any other variable. This includes being returned from other functions. This feature is very useful for creating higher-order functions and allows for powerful functional programming patterns.\n",
    "\n",
    "- [ref](https://www.slingacademy.com/article/returning-functions-as-values-in-go/)"
   ]
  },
  {
   "cell_type": "code",
   "execution_count": 6,
   "id": "81617d7e",
   "metadata": {},
   "outputs": [
    {
     "name": "stdout",
     "output_type": "stream",
     "text": [
      "I like, k8s!\n",
      "I hate, Java!\n"
     ]
    }
   ],
   "source": [
    "func createAction(action string) func(string) {\n",
    "  return func(article string) {\n",
    "      fmt.Printf(\"%s, %s!\\n\", action, article)\n",
    "  }\n",
    "}\n",
    "\n",
    "func main() {\n",
    "   like := createAction(\"I like\")\n",
    "   hate := createAction(\"I hate\")\n",
    "\n",
    "   like(\"k8s\")\n",
    "   hate(\"Java\")\n",
    "}"
   ]
  },
  {
   "cell_type": "markdown",
   "id": "2eca6290",
   "metadata": {},
   "source": [
    "## Pointers\n",
    "\n",
    "### Examples\n",
    "\n",
    "#### Pointers Basics\n",
    "\n",
    "This section shows the fundamental concept of a pointer. A pointer is a special variable that doesn't hold a value like a number or text, but instead holds the memory address of another variable. The `&` operator is used to get the memory address of a variable (`&x`). The `*` operator, when used before a pointer variable (`*ptr`), is called \"dereferencing.\" It allows you to access the actual value stored at that memory address.\n",
    "\n",
    "In this code, `ptr` stores the location of `x` in memory. So, printing `ptr` shows a memory address, while printing `*ptr` follows that address to find and show the value of `x`, which is `1`. A pointer is essentially a reference or a \"link\" to another variable."
   ]
  },
  {
   "cell_type": "code",
   "execution_count": 7,
   "id": "e1e891d8",
   "metadata": {},
   "outputs": [
    {
     "name": "stdout",
     "output_type": "stream",
     "text": [
      "1\n",
      "0x548188\n",
      "1\n"
     ]
    }
   ],
   "source": [
    "var x int = 1\n",
    "var ptr *int = &x\n",
    "\n",
    "func main()  {\n",
    "  fmt.Println(x)\n",
    "  fmt.Println(ptr)\n",
    "  fmt.Println(*ptr)\n",
    "}"
   ]
  },
  {
   "cell_type": "markdown",
   "id": "eee9cb10",
   "metadata": {},
   "source": [
    "#### Memory Management with Pointers\n",
    "\n",
    "This example demonstrates how to create variables directly in memory without first declaring a named variable like `x`. The built-in function **`new()`** allocates memory for a specific type (in this case, `int`), initializes it to its \"zero-value\" (`0` for integers), and returns a pointer to that memory location. You can then use the dereference operator (`*`) to change the value at that address, as seen with `*ptr = 10`.\n",
    "\n",
    "Finally, setting a pointer to **`nil`** means it no longer points to any memory address. The memory that was allocated by `new()` is now no longer referenced by `ptr`. Go's automatic garbage collector will eventually find this unused memory and free it up, which helps prevent memory leaks."
   ]
  },
  {
   "cell_type": "code",
   "execution_count": 8,
   "id": "07dc02a0",
   "metadata": {},
   "outputs": [
    {
     "name": "stdout",
     "output_type": "stream",
     "text": [
      "0xc00010c040\n",
      "0\n",
      "10\n"
     ]
    }
   ],
   "source": [
    "var ptr *int = new(int) // new function to allocate memory\n",
    "\n",
    "func main()  {\n",
    "  fmt.Println(ptr)\n",
    "  fmt.Println(*ptr)\n",
    "\n",
    "  *ptr = 10\n",
    "  fmt.Println(*ptr)\n",
    "\n",
    "  ptr = nil\n",
    "}"
   ]
  },
  {
   "cell_type": "markdown",
   "id": "c8b96108",
   "metadata": {},
   "source": [
    "## Structs\n",
    "\n",
    "A struct is a user-defined type that represents a collection of fields. It can be used in places where it makes sense to group the data into a single unit rather than having each of them as separate values."
   ]
  },
  {
   "cell_type": "code",
   "execution_count": 9,
   "id": "95c4de9c",
   "metadata": {},
   "outputs": [
    {
     "name": "stdout",
     "output_type": "stream",
     "text": [
      "searge\n"
     ]
    }
   ],
   "source": [
    "type Kubernetes struct {\n",
    "    Name       string     `json:\"name\"`\n",
    "    Version    string     `json:\"version\"`\n",
    "    Users      []string   `json:\"users,omitempty\"`\n",
    "    NodeNumber func() int `json:\"-\"`\n",
    "}\n",
    "\n",
    "func (k8s Kubernetes) GetUsers() {\n",
    "    for _, user := range k8s.Users {\n",
    "        fmt.Println(user)\n",
    "    }\n",
    "}\n",
    "\n",
    "func (k8s *Kubernetes) AddNewUser(user string) {\n",
    "    k8s.Users = append(k8s.Users, user)\n",
    "}\n",
    "\n",
    "func main() {\n",
    "    k8s := Kubernetes{\n",
    "        Name:    \"k8s\",\n",
    "        Version: \"1.19.3\",\n",
    "    }\n",
    "\n",
    "    k8s.AddNewUser(\"searge\")\n",
    "    k8s.GetUsers()\n",
    "}"
   ]
  },
  {
   "cell_type": "markdown",
   "id": "0975821e",
   "metadata": {},
   "source": [
    "## Goroutines\n",
    "\n",
    "A goroutine is a lightweight thread of execution.\n",
    "I.e. it is an independent function that executes simultaneously in some separate lightweight threads managed by Go. GoLang provides it to support concurrency in Go.\n",
    "- https://www.freecodecamp.org/news/concurrent-programming-in-go/\n",
    "\n",
    "### Examples\n",
    "\n",
    "#### Creating Goroutines"
   ]
  },
  {
   "cell_type": "code",
   "execution_count": 10,
   "id": "8173655e",
   "metadata": {},
   "outputs": [
    {
     "name": "stdout",
     "output_type": "stream",
     "text": [
      "k8s\n"
     ]
    }
   ],
   "source": [
    "func getDeployments(name string) {\n",
    "    fmt.Println(name)\n",
    "}\n",
    "\n",
    "func main() {\n",
    "  go getDeployments(\"k8s\")\n",
    "\n",
    "  // Wait for 1 second\n",
    "  time.Sleep(1 * time.Second)\n",
    "}"
   ]
  },
  {
   "cell_type": "markdown",
   "id": "13b5cc69",
   "metadata": {},
   "source": [
    "#### Anonymous functions"
   ]
  },
  {
   "cell_type": "code",
   "execution_count": 11,
   "id": "305e9601",
   "metadata": {},
   "outputs": [
    {
     "name": "stdout",
     "output_type": "stream",
     "text": [
      "k8s\n"
     ]
    }
   ],
   "source": [
    "func main() {\n",
    "   go func(name string){\n",
    "     fmt.Println(name)\n",
    "   }(\"k8s\")\n",
    "\n",
    "   // Wait for 1 second\n",
    "   time.Sleep(1 * time.Second)\n",
    "}"
   ]
  },
  {
   "cell_type": "markdown",
   "id": "3f248970",
   "metadata": {},
   "source": [
    "#### WaitGroup\n",
    "\n",
    "A `sync.WaitGroup` is essentially a counter that allows your main program to wait for a number of goroutines to finish their work. Think of it as a checklist for a manager. You use `Add()` to tell the `WaitGroup` how many tasks you are starting. Then you use `Wait()` to pause the main program until the counter goes back to zero. Each goroutine calls `Done()` when it completes its task, which decrements the counter by one. This is the standard way to prevent a program from exiting before all its concurrent tasks are done.\n",
    "\n",
    "We use `defer` with `wg.Done()` as a safety guarantee. The `defer` keyword schedules the `Done()` function to be called at the very end, right before the goroutine exits, no matter how it exits. This is crucial because if there was an error or a panic inside the goroutine, `wg.Done()` would still be called. Without `defer`, if the goroutine crashed, the counter would never be decremented, and your program would get stuck at `wg.Wait()` forever, causing a deadlock."
   ]
  },
  {
   "cell_type": "code",
   "execution_count": 12,
   "id": "af7f77ff",
   "metadata": {},
   "outputs": [
    {
     "name": "stdout",
     "output_type": "stream",
     "text": [
      "Working on k8s_task 4\n",
      "Working on k8s_task 1\n",
      "Working on k8s_task 3\n",
      "Working on k8s_task 2\n",
      "Working on k8s_task 0\n",
      "Finished k8s_task 3\n",
      "Finished k8s_task 4\n",
      "Finished k8s_task 1\n",
      "Finished k8s_task 2\n",
      "Finished k8s_task 0\n",
      "All tasks are finished\n"
     ]
    }
   ],
   "source": [
    "  func main() {\n",
    "    var wg sync.WaitGroup\n",
    "\n",
    "    for i := 0; i < 5; i++ {\n",
    "        wg.Add(1)\n",
    "        go func(taskName string, index int) {\n",
    "            defer wg.Done()\n",
    "            fmt.Printf(\"Working on %s %d\\n\", taskName, index)\n",
    "            time.Sleep(100 * time.Millisecond)  // Work imitation\n",
    "            fmt.Printf(\"Finished %s %d\\n\", taskName, index)\n",
    "        }(\"k8s_task\", i)\n",
    "    }\n",
    "    wg.Wait()\n",
    "    fmt.Println(\"All tasks are finished\")\n",
    "  }"
   ]
  },
  {
   "cell_type": "markdown",
   "id": "526c5c44",
   "metadata": {},
   "source": [
    "### Channels\n",
    "\n",
    "In concurrent programming, Go provides channels that you can use for bidirectional communication between goroutines.\n",
    "\n",
    "Bidirectional communication means that one goroutine will send a message and the other will read it. Sends and receives are blocking. Code execution will be stopped until the write and read are done successfully.\n",
    "\n",
    "Channels are one of the more convenient ways to send and receive notifications."
   ]
  },
  {
   "cell_type": "code",
   "execution_count": 13,
   "id": "c16e04cd",
   "metadata": {},
   "outputs": [
    {
     "name": "stdout",
     "output_type": "stream",
     "text": [
      "Asking goroutine to fetch deployments\n",
      "galaxy-production\n",
      "Successfully received deployments:\n",
      " - nginx-ingress-controller\n",
      " - prometheus-operator\n",
      " - cert-manager\n"
     ]
    }
   ],
   "source": [
    "// Result is a container for the outcome of our concurrent operation.\n",
    "// It holds either the data (Deployments) or an Error.\n",
    "type Result struct {\n",
    "\tDeployments []string\n",
    "\tError       error\n",
    "}\n",
    "\n",
    "// getDeployments simulates fetching data from a Kubernetes cluster.\n",
    "// It sends the outcome back through the provided channel.\n",
    "func getDeployments(clusterName string, resultChan chan<- Result) {\n",
    "  fmt.Println(clusterName)\n",
    "\n",
    "  mockData := []string{\n",
    "    \"nginx-ingress-controller\",\n",
    "    \"prometheus-operator\",\n",
    "    \"cert-manager\",\n",
    "  }\n",
    "\n",
    "  time.Sleep(2 * time.Second) // Simulate work\n",
    "  // Simulate a possible failure\n",
    "  // you will get 10% of chance to fail\n",
    "  if rand.Intn(10) == 0 {\n",
    "    err := errors.New(\"API server is unreachable\")\n",
    "    resultChan <- Result{Error: err}\n",
    "    return\n",
    "  }\n",
    "\n",
    "  // On success, return mock data.\n",
    "  resultChan <- Result{Deployments: mockData}\n",
    "}\n",
    "\n",
    "func main()  {\n",
    "  resultChan := make(chan Result)\n",
    "\n",
    "  fmt.Println(\"Asking goroutine to fetch deployments\")\n",
    "  // Start the concurrent operation.\n",
    "  go getDeployments(\"galaxy-production\", resultChan)\n",
    "\n",
    "  // Wait for the result to be sent back on the channel\n",
    "  result := <-resultChan\n",
    "\n",
    "  if result.Error != nil {\n",
    "    fmt.Printf(\"Failed to get deployments. Error: %v\\n\", result.Error)\n",
    "    return\n",
    "  }\n",
    "\n",
    "  fmt.Println(\"Successfully received deployments:\")\n",
    "  for _, dep := range result.Deployments {\n",
    "    fmt.Printf(\" - %s\\n\", dep)\n",
    "  }\n",
    "\n",
    "}"
   ]
  },
  {
   "cell_type": "markdown",
   "id": "f7cf4c11",
   "metadata": {},
   "source": [
    "#### Channel Directions\n",
    "\n",
    "Channel directions are a safety feature for function signatures. \n",
    "\n",
    "By specifying a channel as send-only (`chan<- T`) or receive-only (`<-chan T`), you create a \"contract\". This contract is enforced by the compiler, preventing you from accidentally using a channel the wrong way (e.g., trying to read from a send-only channel). \n",
    "\n",
    "It makes concurrent code safer and easier to understand at a glance."
   ]
  },
  {
   "cell_type": "code",
   "execution_count": 14,
   "id": "e8687291",
   "metadata": {},
   "outputs": [
    {
     "name": "stdout",
     "output_type": "stream",
     "text": [
      "Reader: waiting for a message...\n",
      "Writer: preparing to send a message...\n",
      "Writer: message sent.\n",
      "Reader: received message -> Hello from the other side!\n",
      "Main: program finished.\n"
     ]
    }
   ],
   "source": [
    "// writer accepts a send-only channel and a message.\n",
    "// The `chan<-` syntax enforces that this function cannot read from the channel.\n",
    "func writer(channel chan<- string, msg string) {\n",
    "\tfmt.Println(\"Writer: preparing to send a message...\")\n",
    "\tchannel <- msg\n",
    "\tfmt.Println(\"Writer: message sent.\")\n",
    "}\n",
    "\n",
    "// reader accepts a receive-only channel.\n",
    "// The `<-chan` syntax enforces that this function cannot send to the channel.\n",
    "func reader(channel <-chan string) {\n",
    "\tfmt.Println(\"Reader: waiting for a message...\")\n",
    "\tmsg := <-channel\n",
    "\tfmt.Println(\"Reader: received message ->\", msg)\n",
    "}\n",
    "\n",
    "func main() {\n",
    "\t// 1. Create a standard, bidirectional channel.\n",
    "\tmessages := make(chan string)\n",
    "\n",
    "\t// 2. Start the writer in a new goroutine.\n",
    "\t// We pass the bidirectional channel 'messages' to it.\n",
    "\t// Go automatically converts it to the send-only type `chan<- string`\n",
    "\t// required by the writer function.\n",
    "\tgo writer(messages, \"Hello from the other side!\")\n",
    "\n",
    "\t// 3. Call the reader in the main goroutine.\n",
    "\t// The 'messages' channel is converted to the receive-only type `<-chan string`.\n",
    "\t// The reader will block here until the writer sends the message.\n",
    "\treader(messages)\n",
    "\n",
    "\tfmt.Println(\"Main: program finished.\")\n",
    "}"
   ]
  },
  {
   "cell_type": "markdown",
   "id": "5ed83f3e",
   "metadata": {},
   "source": [
    "#### Closing a channel\n",
    "\n",
    "Closing a channel with `close(ch)` is how a sender signals \"I'm done, no more values are coming.\" \n",
    "\n",
    "This allows receivers using a `for range` loop to finish cleanly instead of waiting forever. \n",
    "\n",
    "**Key rules:** \n",
    "1. Only the sender should close a channel. \n",
    "2. If you have multiple senders, you must coordinate the closing. \n",
    "\n",
    "A robust pattern is to use a `sync.WaitGroup` to track all senders, and have a dedicated goroutine call `close()` only after all of them are finished."
   ]
  },
  {
   "cell_type": "code",
   "execution_count": 15,
   "id": "5d59ea0a",
   "metadata": {},
   "outputs": [
    {
     "name": "stdout",
     "output_type": "stream",
     "text": [
      "Main: waiting for worker results...\n",
      "Worker 0 starting\n",
      "Main: received -> [Worker 0 finished]\n",
      "Worker 2 starting\n",
      "Worker 3 starting\n",
      "Worker 1 starting\n",
      "Worker 4 starting\n",
      "Main: received -> [Worker 1 finished]\n",
      "Main: received -> [Worker 2 finished]\n",
      "Main: received -> [Worker 3 finished]\n",
      "Main: received -> [Worker 4 finished]\n",
      "Main: all workers are done. Program finished.\n"
     ]
    }
   ],
   "source": [
    "// worker simulates a task that takes time and sends its result to a channel.\n",
    "func worker(id int, wg *sync.WaitGroup, results chan<- string) {\n",
    "  // Ensure Done is called when the worker exits.\n",
    "\tdefer wg.Done()\n",
    "\n",
    "  fmt.Printf(\"Worker %d starting\\n\", id)\n",
    "  // Simulate work\n",
    "  time.Sleep(time.Duration(id) * 500 * time.Millisecond)\n",
    "  // Send the result of the work to the results channel.\n",
    "  result := fmt.Sprintf(\"Worker %d finished\", id)\n",
    "  results <- result\n",
    "}\n",
    "\n",
    "func main() {\n",
    "  const numWorkers = 5\n",
    "\n",
    "  // Create a buffered channel that can hold defined number of values.\n",
    "  results := make(chan string, numWorkers)\n",
    "\n",
    "  // Wait for all workers to finish\n",
    "  var wg sync.WaitGroup\n",
    "\n",
    "  // Launch the workers.\n",
    "  for i := 0; i < numWorkers; i++ {\n",
    "    wg.Add(1)\n",
    "    go worker(i, &wg, results)\n",
    "  }\n",
    "\n",
    "  // Launch a special goroutine whose only job is to wait all workers\n",
    "  // to finish & close the result channel.\n",
    "  go func() {\n",
    "    wg.Wait()\n",
    "    close(results)\n",
    "  }()\n",
    "\n",
    "  // The main goroutine now acts as the consumer.\n",
    "  fmt.Println(\"Main: waiting for worker results...\")\n",
    "\tfor result := range results {\n",
    "\t\tfmt.Printf(\"Main: received -> [%s]\\n\", result)\n",
    "\t}\n",
    "\n",
    "\tfmt.Println(\"Main: all workers are done. Program finished.\")\n",
    "}"
   ]
  }
 ],
 "metadata": {
  "kernelspec": {
   "display_name": "Go (gonb)",
   "language": "go",
   "name": "gonb"
  },
  "language_info": {
   "codemirror_mode": "",
   "file_extension": ".go",
   "mimetype": "",
   "name": "go",
   "nbconvert_exporter": "",
   "pygments_lexer": "",
   "version": "go1.23.1"
  }
 },
 "nbformat": 4,
 "nbformat_minor": 5
}
