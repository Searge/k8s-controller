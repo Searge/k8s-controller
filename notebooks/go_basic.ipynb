{
 "cells": [
  {
   "cell_type": "markdown",
   "id": "d4d14e11",
   "metadata": {},
   "source": [
    "# Go Basic\n",
    "\n",
    "Code examples that you can use to play with Golang\n",
    "\n",
    "## Functions"
   ]
  },
  {
   "cell_type": "code",
   "execution_count": 5,
   "id": "8706d1a3",
   "metadata": {},
   "outputs": [
    {
     "name": "stdout",
     "output_type": "stream",
     "text": [
      "can't lear k8s or golanf for 0 years...\n"
     ]
    }
   ],
   "source": [
    "func goLearn(k8s, golang string, years int) (bool, error){\n",
    "    if years == 0 {\n",
    "        return false, fmt.Errorf(\"can't lear k8s or golanf for 0 years...\")\n",
    "    }\n",
    "    return true, nil\n",
    "}\n",
    "\n",
    "func main() {\n",
    "    result, err := goLearn(\"k8s\", \"golang\", 0)\n",
    "    if err != nil {\n",
    "        fmt.Println(err)\n",
    "    } else {\n",
    "        fmt.Println(result)\n",
    "    }\n",
    "}\n"
   ]
  },
  {
   "cell_type": "markdown",
   "id": "8e08ef46",
   "metadata": {},
   "source": [
    "### Anonymous functions"
   ]
  },
  {
   "cell_type": "code",
   "execution_count": 8,
   "id": "5a9adb22",
   "metadata": {},
   "outputs": [
    {
     "name": "stdout",
     "output_type": "stream",
     "text": [
      "true\n"
     ]
    }
   ],
   "source": [
    "func main() {\n",
    "  goLearn := func(k8s, golang string, years int) bool {\n",
    "      return true\n",
    "  }\n",
    "\n",
    "  fmt.Println(goLearn(\"k8s\", \"golang\", 1))\n",
    "}\n"
   ]
  }
 ],
 "metadata": {
  "kernelspec": {
   "display_name": "Go (gonb)",
   "language": "go",
   "name": "gonb"
  },
  "language_info": {
   "codemirror_mode": "",
   "file_extension": ".go",
   "mimetype": "",
   "name": "go",
   "nbconvert_exporter": "",
   "pygments_lexer": "",
   "version": "go1.23.1"
  }
 },
 "nbformat": 4,
 "nbformat_minor": 5
}
